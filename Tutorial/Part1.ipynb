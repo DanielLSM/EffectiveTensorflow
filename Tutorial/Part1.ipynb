{
 "cells": [
  {
   "cell_type": "code",
   "execution_count": 1,
   "metadata": {
    "collapsed": true
   },
   "outputs": [],
   "source": [
    "import tensorflow as tf"
   ]
  },
  {
   "cell_type": "code",
   "execution_count": 3,
   "metadata": {},
   "outputs": [
    {
     "name": "stdout",
     "output_type": "stream",
     "text": [
      "[[ 2.95429576 -4.88252048 -5.23232875  4.50573476  4.35568461 -1.9486697\n",
      "   1.02061355  1.66615832  3.59584216 -2.61275301]\n",
      " [ 3.44005481 -0.82123459 -4.71193044 -0.18031983  3.06069096 -2.9810908\n",
      "  -1.54853078  0.08253316  3.83698762 -1.58688425]\n",
      " [-0.36574705  1.4204509   1.87790906 -2.36143906  2.94312458 -3.72250019\n",
      "  -2.3817938  -0.30920769  1.97151722  3.9959587 ]\n",
      " [ 1.23916754 -1.66415348 -2.08205555  2.23366986  0.94696794 -1.72987502\n",
      "   1.04485585  2.47979397  5.35472696  2.25461423]\n",
      " [-0.28988147 -1.08262249 -0.00947049 -6.35632482 -2.42996857 -2.1470591\n",
      "  -2.48696237  2.20248516 -0.11051529 -0.28037378]\n",
      " [ 3.20609882 -0.48275769 -2.22984693  4.02810702  2.95595027 -6.44201522\n",
      "  -0.57873736  0.6197005   3.06063487  4.11239449]\n",
      " [ 0.18151886  0.02562019  1.21596557 -2.25960436  2.72534772 -1.06246924\n",
      "  -2.08288931 -1.79268545 -1.25792778 -0.5124016 ]\n",
      " [ 3.06716057 -5.69586359  0.74622912  0.80167339 -1.74032134  2.24210412\n",
      "   1.10128577  5.36463841 -1.35217818 -1.50579437]\n",
      " [ 2.43388138 -4.44402183 -1.3890275   4.87193898  2.13184825  1.17038614\n",
      "   0.64605225  1.61205225  4.48907809  2.20588612]\n",
      " [ 2.18957829  1.60989806  0.21233854 -1.40914822 -3.89066448 -1.3334643\n",
      "   1.22949042  0.03795349 -0.83999932  0.73561049]]\n"
     ]
    }
   ],
   "source": [
    "import numpy as np\n",
    "\n",
    "x = np.random.normal(size=(10, 10))\n",
    "y = np.random.normal(size=[10, 10])\n",
    "z = np.dot(x, y)\n",
    "\n",
    "print(z)"
   ]
  },
  {
   "cell_type": "code",
   "execution_count": 8,
   "metadata": {},
   "outputs": [
    {
     "name": "stdout",
     "output_type": "stream",
     "text": [
      "[[  0.03306961   1.29072511  -1.43565071  -3.4723208    2.99058342\n",
      "   -2.29706144   1.60853004  -5.04493332   0.75759864  -0.57922953]\n",
      " [  1.54378152 -10.53447342   1.5956223    3.31343222   1.16477454\n",
      "    4.98312283   0.45548737   1.2238245   -1.1763705    7.05291176]\n",
      " [  5.27615023   2.05632758   2.39375186   1.76768029   3.83529449\n",
      "   -5.8691864    6.06101227   5.81180429   0.80816686   0.47668773]\n",
      " [ -2.63248444   1.53019309  -2.43857622  -1.56751359   2.34733653\n",
      "   -5.60282469   6.27011728   5.0008378    3.88611269   3.06872177]\n",
      " [ -3.45232487  -1.48873591  -5.94112921   2.34091163  -2.06082559\n",
      "    1.33065212  -1.66538143  -5.54222012   1.68822217  -2.19950032]\n",
      " [ -0.40587354   0.30262947   0.32141763   4.45262718  -1.15333295\n",
      "    1.47882009  -1.15051484  -3.36801505   1.80576622  -1.64428008]\n",
      " [  0.93406087   5.08784676  -0.40957987   4.10686398  -2.03992462\n",
      "   -0.61681753   1.57133794  -2.10186958   2.37898231  -4.17534256]\n",
      " [ -2.71234846   5.18209505  -2.12372637  -1.09145284  -0.14617524\n",
      "   -1.19092178   4.44823647  -3.35452271   7.2816124   -1.24991941]\n",
      " [ -0.09189868  -8.62329102   4.9259963   -0.24549389   0.25532857\n",
      "    4.45388174   0.1473527    0.38168955  -2.56901169   5.05594301]\n",
      " [  2.74335599  -2.63735366  -6.10480976   3.69000268  -1.84270835\n",
      "    4.84068441   4.54046249  -6.58845949   1.0290221   -2.39081454]]\n"
     ]
    }
   ],
   "source": [
    "import tensorflow as tf\n",
    "\n",
    "x = tf.random_normal([10, 10])\n",
    "y = tf.random_normal([10, 10])\n",
    "z = tf.matmul(x, y)\n",
    "\n",
    "sess = tf.Session()\n",
    "z_val = sess.run(z)\n",
    "\n",
    "print(z_val)"
   ]
  },
  {
   "cell_type": "code",
   "execution_count": 9,
   "metadata": {
    "collapsed": true
   },
   "outputs": [],
   "source": [
    "tf.reset_default_graph()"
   ]
  },
  {
   "cell_type": "code",
   "execution_count": 16,
   "metadata": {},
   "outputs": [
    {
     "ename": "TypeError",
     "evalue": "__init__() got an unexpected keyword argument 'alpha'",
     "output_type": "error",
     "traceback": [
      "\u001b[0;31m---------------------------------------------------------------------------\u001b[0m",
      "\u001b[0;31mTypeError\u001b[0m                                 Traceback (most recent call last)",
      "\u001b[0;32m<ipython-input-16-0baa5ef15a95>\u001b[0m in \u001b[0;36m<module>\u001b[0;34m()\u001b[0m\n\u001b[1;32m     22\u001b[0m \u001b[0;34m\u001b[0m\u001b[0m\n\u001b[1;32m     23\u001b[0m \u001b[0;31m# We use the Adam optimizer with learning rate set to 0.1 to minimize the loss.\u001b[0m\u001b[0;34m\u001b[0m\u001b[0;34m\u001b[0m\u001b[0m\n\u001b[0;32m---> 24\u001b[0;31m \u001b[0mtrain_op\u001b[0m \u001b[0;34m=\u001b[0m \u001b[0mtf\u001b[0m\u001b[0;34m.\u001b[0m\u001b[0mtrain\u001b[0m\u001b[0;34m.\u001b[0m\u001b[0mAdamOptimizer\u001b[0m\u001b[0;34m(\u001b[0m\u001b[0malpha\u001b[0m\u001b[0;34m=\u001b[0m\u001b[0;36m0.1\u001b[0m\u001b[0;34m)\u001b[0m\u001b[0;34m.\u001b[0m\u001b[0mminimize\u001b[0m\u001b[0;34m(\u001b[0m\u001b[0mloss\u001b[0m\u001b[0;34m)\u001b[0m\u001b[0;34m\u001b[0m\u001b[0m\n\u001b[0m\u001b[1;32m     25\u001b[0m \u001b[0;34m\u001b[0m\u001b[0m\n\u001b[1;32m     26\u001b[0m \u001b[0;32mdef\u001b[0m \u001b[0mgenerate_data\u001b[0m\u001b[0;34m(\u001b[0m\u001b[0;34m)\u001b[0m\u001b[0;34m:\u001b[0m\u001b[0;34m\u001b[0m\u001b[0m\n",
      "\u001b[0;31mTypeError\u001b[0m: __init__() got an unexpected keyword argument 'alpha'"
     ]
    }
   ],
   "source": [
    "import numpy as np\n",
    "import tensorflow as tf\n",
    "\n",
    "# Placeholders are used to feed values from python to TensorFlow ops. We define\n",
    "# two placeholders, one for input feature x, and one for output y.\n",
    "x = tf.placeholder(tf.float32)\n",
    "y = tf.placeholder(tf.float32)\n",
    "\n",
    "# Assuming we know that the desired function is a polynomial of 2nd degree, we\n",
    "# allocate a vector of size 3 to hold the coefficients. The variable will be\n",
    "# automatically initialized with random noise.\n",
    "w = tf.get_variable(name=\"w\", shape=[3, 1])\n",
    "\n",
    "# We define yhat to be our estimate of y.\n",
    "f = tf.stack([tf.square(x), x, tf.ones_like(x)], 1)\n",
    "yhat = tf.squeeze(tf.matmul(f, w), 1)\n",
    "\n",
    "# The loss is defined to be the l2 distance between our estimate of y and its\n",
    "# true value. We also added a shrinkage term, to ensure the resulting weights\n",
    "# would be small.\n",
    "loss = tf.nn.l2_loss(yhat - y) + 0.1 * tf.nn.l2_loss(w)\n",
    "\n",
    "# We use the Adam optimizer with learning rate set to 0.1 to minimize the loss.\n",
    "train_op = tf.train.AdamOptimizer(0.1).minimize(loss)\n",
    "\n",
    "def generate_data():\n",
    "    x_val = np.random.uniform(-10.0, 10.0, size=100)\n",
    "    y_val = 5 * np.square(x_val) + 3\n",
    "    return x_val, y_val\n",
    "\n",
    "sess = tf.Session()\n",
    "# Since we are using variables we first need to initialize them.\n",
    "sess.run(tf.global_variables_initializer())\n",
    "for _ in range(1000):\n",
    "    x_val, y_val = generate_data()\n",
    "    _, loss_val = sess.run([train_op, loss], {x: x_val, y: y_val})\n",
    "    print(loss_val)\n",
    "print(sess.run([w]))\n",
    "tf.reset_default_graph()"
   ]
  },
  {
   "cell_type": "code",
   "execution_count": null,
   "metadata": {
    "collapsed": true
   },
   "outputs": [],
   "source": []
  }
 ],
 "metadata": {
  "kernelspec": {
   "display_name": "Python [conda env:canton]",
   "language": "python",
   "name": "conda-env-canton-py"
  },
  "language_info": {
   "codemirror_mode": {
    "name": "ipython",
    "version": 3
   },
   "file_extension": ".py",
   "mimetype": "text/x-python",
   "name": "python",
   "nbconvert_exporter": "python",
   "pygments_lexer": "ipython3",
   "version": "3.5.4"
  }
 },
 "nbformat": 4,
 "nbformat_minor": 2
}
