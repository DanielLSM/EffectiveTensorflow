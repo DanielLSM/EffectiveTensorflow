{
 "cells": [
  {
   "cell_type": "code",
   "execution_count": 1,
   "metadata": {
    "collapsed": true
   },
   "outputs": [],
   "source": [
    "import tensorflow as tf"
   ]
  },
  {
   "cell_type": "code",
   "execution_count": 2,
   "metadata": {},
   "outputs": [
    {
     "name": "stdout",
     "output_type": "stream",
     "text": [
      "Const:0\n",
      "Variable:0\n"
     ]
    }
   ],
   "source": [
    "a = tf.constant(1)\n",
    "print(a.name)  # prints \"Const:0\"\n",
    "\n",
    "b = tf.Variable(1)\n",
    "print(b.name)  # prints \"Variable:0\""
   ]
  },
  {
   "cell_type": "code",
   "execution_count": 3,
   "metadata": {},
   "outputs": [
    {
     "name": "stdout",
     "output_type": "stream",
     "text": [
      "a:0\n",
      "b:0\n"
     ]
    }
   ],
   "source": [
    "a = tf.constant(1, name=\"a\")\n",
    "print(a.name)  # prints \"a:0\"\n",
    "\n",
    "b = tf.Variable(1, name=\"b\")\n",
    "print(b.name)  # prints \"b:0\""
   ]
  },
  {
   "cell_type": "code",
   "execution_count": 4,
   "metadata": {},
   "outputs": [
    {
     "name": "stdout",
     "output_type": "stream",
     "text": [
      "scope/a:0\n",
      "scope/b:0\n",
      "c:0\n"
     ]
    }
   ],
   "source": [
    "with tf.name_scope(\"scope\"):\n",
    "  a = tf.constant(1, name=\"a\")\n",
    "  print(a.name)  # prints \"scope/a:0\"\n",
    "\n",
    "  b = tf.Variable(1, name=\"b\")\n",
    "  print(b.name)  # prints \"scope/b:0\"\n",
    "\n",
    "  c = tf.get_variable(name=\"c\", shape=[])\n",
    "  print(c.name)  # prints \"c:0\""
   ]
  }
 ],
 "metadata": {
  "kernelspec": {
   "display_name": "Python [conda env:canton]",
   "language": "python",
   "name": "conda-env-canton-py"
  },
  "language_info": {
   "codemirror_mode": {
    "name": "ipython",
    "version": 3
   },
   "file_extension": ".py",
   "mimetype": "text/x-python",
   "name": "python",
   "nbconvert_exporter": "python",
   "pygments_lexer": "ipython3",
   "version": "3.5.4"
  }
 },
 "nbformat": 4,
 "nbformat_minor": 2
}
