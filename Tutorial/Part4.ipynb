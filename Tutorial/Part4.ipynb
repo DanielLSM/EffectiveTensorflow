{
 "cells": [
  {
   "cell_type": "code",
   "execution_count": 1,
   "metadata": {
    "collapsed": true
   },
   "outputs": [],
   "source": [
    "import tensorflow as tf\n",
    "\n",
    "a = tf.constant([[1., 2.], [3., 4.]])\n",
    "b = tf.constant([[1.], [2.]])\n",
    "# c = a + tf.tile(b, [1, 2])\n",
    "c = a + b"
   ]
  },
  {
   "cell_type": "code",
   "execution_count": 2,
   "metadata": {
    "collapsed": true
   },
   "outputs": [],
   "source": [
    "a = tf.random_uniform([5, 3, 5])\n",
    "b = tf.random_uniform([5, 1, 6])\n",
    "\n",
    "# concat a and b and apply nonlinearity\n",
    "tiled_b = tf.tile(b, [1, 3, 1])\n",
    "c = tf.concat([a, tiled_b], 2)\n",
    "d = tf.layers.dense(c, 10, activation=tf.nn.relu)"
   ]
  },
  {
   "cell_type": "code",
   "execution_count": 3,
   "metadata": {
    "collapsed": true
   },
   "outputs": [],
   "source": [
    "pa = tf.layers.dense(a, 10, activation=None)\n",
    "pb = tf.layers.dense(b, 10, activation=None)\n",
    "d = tf.nn.relu(pa + pb)"
   ]
  },
  {
   "cell_type": "code",
   "execution_count": 4,
   "metadata": {
    "collapsed": true
   },
   "outputs": [],
   "source": [
    "def merge(a, b, units, activation=tf.nn.relu):\n",
    "    pa = tf.layers.dense(a, units, activation=None)\n",
    "    pb = tf.layers.dense(b, units, activation=None)\n",
    "    c = pa + pb\n",
    "    if activation is not None:\n",
    "        c = activation(c)\n",
    "    return c"
   ]
  },
  {
   "cell_type": "code",
   "execution_count": 5,
   "metadata": {
    "collapsed": true
   },
   "outputs": [],
   "source": [
    "a = tf.constant([[1.], [2.]])\n",
    "b = tf.constant([1., 2.])\n",
    "c = tf.reduce_sum(a + b)"
   ]
  },
  {
   "cell_type": "code",
   "execution_count": null,
   "metadata": {
    "collapsed": true
   },
   "outputs": [],
   "source": []
  }
 ],
 "metadata": {
  "kernelspec": {
   "display_name": "Python [conda env:canton]",
   "language": "python",
   "name": "conda-env-canton-py"
  },
  "language_info": {
   "codemirror_mode": {
    "name": "ipython",
    "version": 3
   },
   "file_extension": ".py",
   "mimetype": "text/x-python",
   "name": "python",
   "nbconvert_exporter": "python",
   "pygments_lexer": "ipython3",
   "version": "3.5.4"
  }
 },
 "nbformat": 4,
 "nbformat_minor": 2
}
