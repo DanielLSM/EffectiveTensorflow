{
 "cells": [
  {
   "cell_type": "code",
   "execution_count": 12,
   "metadata": {
    "collapsed": true
   },
   "outputs": [],
   "source": [
    "import tensorflow as tf\n",
    "import numpy as np\n",
    "import time"
   ]
  },
  {
   "cell_type": "code",
   "execution_count": 3,
   "metadata": {
    "collapsed": true
   },
   "outputs": [],
   "source": [
    "actual_data = np.random.normal(size=[100])\n",
    "data = tf.constant(actual_data)"
   ]
  },
  {
   "cell_type": "code",
   "execution_count": 4,
   "metadata": {
    "collapsed": true
   },
   "outputs": [],
   "source": [
    "sess= tf.Session()"
   ]
  },
  {
   "cell_type": "code",
   "execution_count": 5,
   "metadata": {
    "collapsed": true
   },
   "outputs": [],
   "source": [
    "del actual_data, data"
   ]
  },
  {
   "cell_type": "code",
   "execution_count": 8,
   "metadata": {},
   "outputs": [],
   "source": [
    "tf.reset_default_graph()"
   ]
  },
  {
   "cell_type": "code",
   "execution_count": 10,
   "metadata": {},
   "outputs": [
    {
     "data": {
      "text/plain": [
       "array([ 5.55299664,  1.14167356,  3.51555061,  4.29050779,  1.34579325,\n",
       "        3.80004668,  1.019086  ,  1.60597467,  1.12360406,  2.69101381,\n",
       "        1.67662668,  3.79319406,  2.57439256,  4.88089371,  3.21857619,\n",
       "        1.31609535,  1.18162251,  3.62932181,  2.0029614 ,  2.54118776,\n",
       "        6.33661747,  1.14575279,  3.16464233,  1.40410924,  1.00509071,\n",
       "        5.11620283,  2.22901869,  2.25169468,  1.01192391,  1.10863006,\n",
       "        4.71017742,  2.12283897,  1.25572526,  1.00431228,  3.00563025,\n",
       "        2.48126626,  1.56931376,  1.12877619,  1.71258509,  5.55037308,\n",
       "        1.69307542,  1.09283423,  2.11112309,  1.06003881,  1.87089896,\n",
       "        1.02045727,  2.38422918,  1.00004768,  1.15249872,  2.98055553,\n",
       "        1.00910902,  1.71623707,  1.14210677,  1.00778055,  1.00505137,\n",
       "        2.04721713,  1.17574298,  1.00017428,  3.61770701,  1.15816963,\n",
       "        2.49629498,  1.72823191,  1.62993956,  1.07340479,  1.44730568,\n",
       "        1.00133121,  1.20643842,  1.6421988 ,  2.28318906,  1.07888246,\n",
       "        1.75173688,  1.70898795,  2.29881024,  1.00197899,  5.43122101,\n",
       "        3.2245996 ,  1.09860134,  2.77038407,  1.12121141,  3.5623765 ,\n",
       "        2.98094153,  1.51664209,  1.03356361,  7.26463795,  8.33721542,\n",
       "        1.0343622 ,  1.14255393,  2.13687372,  1.00064623,  1.05407298,\n",
       "        1.00528121,  1.41668797,  6.70750856,  1.20873952,  1.39352524,\n",
       "        1.63831401,  1.22171664,  1.01308918,  1.15526617,  4.82073021], dtype=float32)"
      ]
     },
     "execution_count": 10,
     "metadata": {},
     "output_type": "execute_result"
    }
   ],
   "source": [
    "data = tf.placeholder(tf.float32)\n",
    "\n",
    "prediction = tf.square(data) + 1\n",
    "\n",
    "actual_data = np.random.normal(size=[100])\n",
    "\n",
    "tf.Session().run(prediction, feed_dict={data: actual_data})"
   ]
  },
  {
   "cell_type": "code",
   "execution_count": 15,
   "metadata": {},
   "outputs": [
    {
     "name": "stdout",
     "output_type": "stream",
     "text": [
      "Took 0.660798 seconds.\n",
      "Z is  [ 245.27433777  247.80496216  248.61738586  252.36431885  249.9750824\n",
      "  253.79818726  253.0199585   247.22869873  251.22740173  242.93989563]\n"
     ]
    }
   ],
   "source": [
    "x = tf.random_uniform([500, 10])\n",
    "\n",
    "z = tf.zeros([10])\n",
    "for i in range(500):\n",
    "    z += x[i]\n",
    "\n",
    "sess = tf.Session()\n",
    "start = time.time()\n",
    "num=sess.run(z)\n",
    "print(\"Took %f seconds.\" % (time.time() - start))\n",
    "print(\"Z is\",num)"
   ]
  },
  {
   "cell_type": "code",
   "execution_count": 17,
   "metadata": {},
   "outputs": [
    {
     "data": {
      "text/plain": [
       "array([ 0.38012743,  0.32984352,  0.36349392,  0.88648713,  0.47768462,\n",
       "        0.5476737 ,  0.54969728,  0.45343232,  0.52089059,  0.4792093 ], dtype=float32)"
      ]
     },
     "execution_count": 17,
     "metadata": {},
     "output_type": "execute_result"
    }
   ],
   "source": [
    "sess.run(x[1])"
   ]
  },
  {
   "cell_type": "code",
   "execution_count": 19,
   "metadata": {},
   "outputs": [
    {
     "name": "stdout",
     "output_type": "stream",
     "text": [
      "Took 0.487447 seconds.\n",
      "Z is [ 252.37731934  255.42108154  258.90078735  250.78996277  253.18553162\n",
      "  243.29663086  254.62904358  256.50973511  261.8416748   256.24258423]\n"
     ]
    }
   ],
   "source": [
    "x = tf.random_uniform([500, 10])\n",
    "\n",
    "z = tf.zeros([10])\n",
    "for i in tf.unstack(x):\n",
    "    z += i\n",
    "\n",
    "sess = tf.Session()\n",
    "start = time.time()\n",
    "num=sess.run(z)\n",
    "print(\"Took %f seconds.\" % (time.time() - start))\n",
    "print(\"Z is\",num)"
   ]
  },
  {
   "cell_type": "code",
   "execution_count": 20,
   "metadata": {},
   "outputs": [
    {
     "name": "stdout",
     "output_type": "stream",
     "text": [
      "Took 0.551221 seconds.\n",
      "Z is [ 248.37536621  251.55462646  241.29989624  255.50726318  252.23713684\n",
      "  251.59811401  254.11201477  250.96447754  255.14080811  237.94503784]\n"
     ]
    }
   ],
   "source": [
    "x = tf.random_uniform([500, 10])\n",
    "\n",
    "z = tf.zeros([10])\n",
    "z=tf.reduce_sum(x,axis=0)\n",
    "\n",
    "sess = tf.Session()\n",
    "start = time.time()\n",
    "num=sess.run(z)\n",
    "print(\"Took %f seconds.\" % (time.time() - start))\n",
    "print(\"Z is\",num)"
   ]
  },
  {
   "cell_type": "code",
   "execution_count": null,
   "metadata": {
    "collapsed": true
   },
   "outputs": [],
   "source": []
  }
 ],
 "metadata": {
  "kernelspec": {
   "display_name": "Python [conda env:canton]",
   "language": "python",
   "name": "conda-env-canton-py"
  },
  "language_info": {
   "codemirror_mode": {
    "name": "ipython",
    "version": 3
   },
   "file_extension": ".py",
   "mimetype": "text/x-python",
   "name": "python",
   "nbconvert_exporter": "python",
   "pygments_lexer": "ipython3",
   "version": "3.5.4"
  }
 },
 "nbformat": 4,
 "nbformat_minor": 2
}
